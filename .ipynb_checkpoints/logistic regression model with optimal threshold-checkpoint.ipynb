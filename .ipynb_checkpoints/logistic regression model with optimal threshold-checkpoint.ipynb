{
 "cells": [
  {
   "cell_type": "code",
   "execution_count": 3,
   "id": "c452eaba",
   "metadata": {},
   "outputs": [],
   "source": [
    "# roc curve for logistic regression model with optimal threshold\n",
    "from numpy import sqrt\n",
    "from numpy import argmax\n",
    "from sklearn.datasets import make_classification\n",
    "from sklearn.linear_model import LogisticRegression\n",
    "from sklearn.model_selection import train_test_split\n",
    "from sklearn.metrics import roc_curve\n",
    "from matplotlib import pyplot"
   ]
  },
  {
   "cell_type": "code",
   "execution_count": 15,
   "id": "72d7ae8d",
   "metadata": {},
   "outputs": [
    {
     "name": "stdout",
     "output_type": "stream",
     "text": [
      "Best Threshold=0.016153, G-Mean=0.933\n"
     ]
    },
    {
     "data": {
      "image/png": "[encoded data removed]",
      "text/plain": [
       "<Figure size 640x480 with 1 Axes>"
      ]
     },
     "metadata": {},
     "output_type": "display_data"
    }
   ],
   "source": [
    "# generate dataset\n",
    "X, y = make_classification(n_samples=10000, n_features=2, n_redundant=0,\n",
    "\tn_clusters_per_class=1, weights=[0.99], flip_y=0, random_state=4)\n",
    "# split into train/test sets\n",
    "\n",
    "trainX, testX, trainy, testy = train_test_split(X, y, test_size=0.5, random_state=2, stratify=y)\n",
    "\n",
    "# fit a model\n",
    "model = LogisticRegression(solver='lbfgs')\n",
    "model.fit(trainX, trainy)\n",
    "# predict probabilities\n",
    "yhat = model.predict_proba(testX)\n",
    "# keep probabilities for the positive outcome only\n",
    "yhat = yhat[:, 1]\n",
    "# calculate roc curves\n",
    "fpr, tpr, thresholds = roc_curve(testy, yhat)\n",
    "# calculate the g-mean for each threshold\n",
    "gmeans = sqrt(tpr * (1-fpr))\n",
    "# locate the index of the largest g-mean\n",
    "ix = argmax(gmeans)\n",
    "print('Best Threshold=%f, G-Mean=%.3f' % (thresholds[ix], gmeans[ix]))\n",
    "# plot the roc curve for the model\n",
    "pyplot.plot([0,1], [0,1], linestyle='--', label='No Skill')\n",
    "pyplot.plot(fpr, tpr, marker='.', label='Logistic')\n",
    "pyplot.scatter(fpr[ix], tpr[ix], marker='o', color='black', label='Best')\n",
    "# axis labels\n",
    "pyplot.xlabel('False Positive Rate')\n",
    "pyplot.ylabel('True Positive Rate')\n",
    "pyplot.legend()\n",
    "# show the plot\n",
    "pyplot.show()"
   ]
  },
  {
   "cell_type": "code",
   "execution_count": 7,
   "id": "c0690e2a",
   "metadata": {},
   "outputs": [
    {
     "data": {
      "text/plain": [
       "(array([0.00000000e+00, 0.00000000e+00, 0.00000000e+00, 2.02020202e-04,\n",
       "        2.02020202e-04, 6.06060606e-04, 6.06060606e-04, 1.01010101e-03,\n",
       "        1.01010101e-03, 1.21212121e-03, 1.21212121e-03, 1.81818182e-03,\n",
       "        1.81818182e-03, 3.63636364e-03, 3.63636364e-03, 5.65656566e-03,\n",
       "        5.65656566e-03, 6.66666667e-03, 6.66666667e-03, 8.48484848e-03,\n",
       "        8.48484848e-03, 1.01010101e-02, 1.01010101e-02, 1.37373737e-02,\n",
       "        1.37373737e-02, 1.63636364e-02, 1.63636364e-02, 2.38383838e-02,\n",
       "        2.38383838e-02, 4.28282828e-02, 4.28282828e-02, 4.56565657e-02,\n",
       "        4.56565657e-02, 5.29292929e-02, 5.29292929e-02, 9.91919192e-02,\n",
       "        9.91919192e-02, 1.57979798e-01, 1.57979798e-01, 2.35555556e-01,\n",
       "        2.35555556e-01, 2.65252525e-01, 2.65252525e-01, 1.00000000e+00]),\n",
       " array([0.  , 0.02, 0.56, 0.56, 0.58, 0.58, 0.62, 0.62, 0.66, 0.66, 0.68,\n",
       "        0.68, 0.7 , 0.7 , 0.72, 0.72, 0.74, 0.74, 0.76, 0.76, 0.78, 0.78,\n",
       "        0.8 , 0.8 , 0.82, 0.82, 0.84, 0.84, 0.86, 0.86, 0.88, 0.88, 0.9 ,\n",
       "        0.9 , 0.92, 0.92, 0.94, 0.94, 0.96, 0.96, 0.98, 0.98, 1.  , 1.  ]),\n",
       " array([1.99999835e+00, 9.99998347e-01, 4.96107783e-01, 4.64133790e-01,\n",
       "        4.37378298e-01, 4.10290652e-01, 3.60605429e-01, 3.18080562e-01,\n",
       "        2.66733994e-01, 2.58835081e-01, 2.56035560e-01, 2.39921159e-01,\n",
       "        2.22567047e-01, 1.43505643e-01, 1.41327098e-01, 1.09726224e-01,\n",
       "        1.07837317e-01, 9.20957096e-02, 9.02480016e-02, 7.34506191e-02,\n",
       "        6.96974524e-02, 6.27586051e-02, 6.03914597e-02, 4.93544524e-02,\n",
       "        4.92428780e-02, 4.17944224e-02, 4.17364870e-02, 2.99406545e-02,\n",
       "        2.98037729e-02, 1.93442867e-02, 1.93349888e-02, 1.86417850e-02,\n",
       "        1.86356233e-02, 1.61540845e-02, 1.61528512e-02, 8.85173160e-03,\n",
       "        8.83828307e-03, 4.91894272e-03, 4.86537595e-03, 2.76888081e-03,\n",
       "        2.76565429e-03, 2.22207193e-03, 2.21906816e-03, 7.26905980e-07]))"
      ]
     },
     "execution_count": 7,
     "metadata": {},
     "output_type": "execute_result"
    }
   ],
   "source": [
    "fpr, tpr, thresholds"
   ]
  },
  {
   "cell_type": "code",
   "execution_count": null,
   "id": "b34ced24",
   "metadata": {},
   "outputs": [],
   "source": []
  },
  {
   "cell_type": "code",
   "execution_count": null,
   "id": "2425537b",
   "metadata": {},
   "outputs": [],
   "source": []
  },
  {
   "cell_type": "code",
   "execution_count": null,
   "id": "cfbccd51",
   "metadata": {},
   "outputs": [],
   "source": []
  },
  {
   "cell_type": "code",
   "execution_count": null,
   "id": "25d0809a",
   "metadata": {},
   "outputs": [],
   "source": []
  },
  {
   "cell_type": "code",
   "execution_count": null,
   "id": "b3ce683e",
   "metadata": {},
   "outputs": [],
   "source": []
  },
  {
   "cell_type": "code",
   "execution_count": null,
   "id": "5ee01eef",
   "metadata": {},
   "outputs": [],
   "source": []
  }
 ],
 "metadata": {
  "kernelspec": {
   "display_name": "Python 3 (ipykernel)",
   "language": "python",
   "name": "python3"
  },
  "language_info": {
   "codemirror_mode": {
    "name": "ipython",
    "version": 3
   },
   "file_extension": ".py",
   "mimetype": "text/x-python",
   "name": "python",
   "nbconvert_exporter": "python",
   "pygments_lexer": "ipython3",
   "version": "3.10.11"
  }
 },
 "nbformat": 4,
 "nbformat_minor": 5
}
