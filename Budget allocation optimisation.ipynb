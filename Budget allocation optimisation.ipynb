{
 "cells": [
  {
   "cell_type": "markdown",
   "id": "bbc45ac5",
   "metadata": {},
   "source": [
    "##### Maximise ROI = maximise (0.25x1 + 0.18x2 + 0.10x3)\n",
    "\n",
    "#####   Maximum budget of £0.5m: \n",
    "###### x1 + x2 + x3  <= 500,000\n",
    "\n",
    "##### TV advertisement not more than 55% of the total budget\n",
    "###### x1 <= 0.55 * (x1 + x2 + x3 )\n",
    "###### => x1  - 0.55 * (x1 + x2 + x3) <=0 \n",
    "###### => 0.45x1 – 0.55 x2 -0.55x3 <= 0\n",
    "\n",
    "##### TV advertisement no less than 45% of the total budget\n",
    "###### x1 >= 0.45 * (x1 + x2 + x3)\n",
    "###### => x1  - 0.45 * (x1 + x2 + x3) >=0 \n",
    "###### => -0.55x1 +0.45 x2 +0.45x3 <= 0\n",
    "\n",
    "##### Print Media budget not less than 50k\n",
    "###### x2 >= 50,000\n",
    "###### => -x2 <= -50,000\n",
    "\n",
    "##### Radio budget not less than 25k\n",
    "###### x3 >= 25,000\n",
    "###### => -x3 <= -25,000\n",
    "\n",
    "##### Campaign Should deliver at least 15m total impacts\n",
    "###### 29.41 x1 + 40x2 + 62.5x3 <= 15,000,000"
   ]
  },
  {
   "cell_type": "code",
   "execution_count": 4,
   "id": "083f0db6",
   "metadata": {},
   "outputs": [],
   "source": [
    "#install.packages(\"lpSolve\");\n",
    "\n",
    "library(lpSolve);"
   ]
  },
  {
   "cell_type": "code",
   "execution_count": null,
   "id": "a1c9ace4",
   "metadata": {},
   "outputs": [],
   "source": [
    "# Set coefficients of the objective function\n",
    "f.objective <- c(0.25, 0.18, 0.10)"
   ]
  },
  {
   "cell_type": "code",
   "execution_count": 8,
   "id": "b5223673",
   "metadata": {},
   "outputs": [],
   "source": [
    "f.constraints <- matrix(c(1,1,1,\n",
    "                  0.45, -0.55, -0.55,\n",
    "                  -0.55, 0.45, 0.45,\n",
    "                  0, -1, 0,\n",
    "                  0, 0, -1,\n",
    "                  29.41, 40, 62.5), nrow = 6, byrow = TRUE)"
   ]
  },
  {
   "cell_type": "code",
   "execution_count": 9,
   "id": "f767c0a2",
   "metadata": {},
   "outputs": [],
   "source": [
    "# Set unequality signs\n",
    "f.logic_direction <- c(\"<=\",\n",
    "           \"<=\",\n",
    "           \"<=\",\n",
    "           \"<=\",\n",
    "           \"<=\",\n",
    "           \"<=\"\n",
    "           )"
   ]
  },
  {
   "cell_type": "code",
   "execution_count": 11,
   "id": "44192605",
   "metadata": {},
   "outputs": [],
   "source": [
    "#Set right hand side coefficients\n",
    "f.decision_factor <- c(500000,\n",
    "           0,\n",
    "           0,\n",
    "          -50000,\n",
    "          -25000,\n",
    "          15000000)\n"
   ]
  },
  {
   "cell_type": "code",
   "execution_count": 12,
   "id": "0307faeb",
   "metadata": {},
   "outputs": [
    {
     "data": {
      "text/plain": [
       "Success: the objective function is 90305.71 "
      ]
     },
     "metadata": {},
     "output_type": "display_data"
    }
   ],
   "source": [
    "# Final value (z)\n",
    "lp(\"max\", f.objective, f.constraints, f.logic_direction, f.decision_factor)"
   ]
  },
  {
   "cell_type": "code",
   "execution_count": 13,
   "id": "bca19da8",
   "metadata": {},
   "outputs": [
    {
     "data": {
      "text/html": [
       "<style>\n",
       ".list-inline {list-style: none; margin:0; padding: 0}\n",
       ".list-inline>li {display: inline-block}\n",
       ".list-inline>li:not(:last-child)::after {content: \"\\00b7\"; padding: 0 .5ex}\n",
       "</style>\n",
       "<ol class=list-inline><li>232348.46600635</li><li>165103.290368831</li><li>25000</li></ol>\n"
      ],
      "text/latex": [
       "\\begin{enumerate*}\n",
       "\\item 232348.46600635\n",
       "\\item 165103.290368831\n",
       "\\item 25000\n",
       "\\end{enumerate*}\n"
      ],
      "text/markdown": [
       "1. 232348.46600635\n",
       "2. 165103.290368831\n",
       "3. 25000\n",
       "\n",
       "\n"
      ],
      "text/plain": [
       "[1] 232348.5 165103.3  25000.0"
      ]
     },
     "metadata": {},
     "output_type": "display_data"
    }
   ],
   "source": [
    "# Variables final values\n",
    "lp(\"max\", f.objective, f.constraints, f.logic_direction, f.decision_factor)$solution"
   ]
  },
  {
   "cell_type": "code",
   "execution_count": null,
   "id": "667386a7",
   "metadata": {},
   "outputs": [],
   "source": []
  },
  {
   "cell_type": "code",
   "execution_count": null,
   "id": "f4c5db03",
   "metadata": {},
   "outputs": [],
   "source": []
  },
  {
   "cell_type": "code",
   "execution_count": null,
   "id": "7e70761c",
   "metadata": {},
   "outputs": [],
   "source": []
  }
 ],
 "metadata": {
  "kernelspec": {
   "display_name": "R",
   "language": "R",
   "name": "ir"
  },
  "language_info": {
   "codemirror_mode": "r",
   "file_extension": ".r",
   "mimetype": "text/x-r-source",
   "name": "R",
   "pygments_lexer": "r",
   "version": "4.2.3"
  }
 },
 "nbformat": 4,
 "nbformat_minor": 5
}
